{
 "cells": [
  {
   "cell_type": "code",
   "execution_count": 8,
   "id": "e58ab0db-2832-4769-8ec1-18dc36b6695b",
   "metadata": {},
   "outputs": [],
   "source": [
    "import tensorflow as tf\n",
    "import requests\n",
    "import base64\n",
    "import json"
   ]
  },
  {
   "cell_type": "code",
   "execution_count": 25,
   "id": "784436d7-cb79-4d5d-add4-c4bd3036a196",
   "metadata": {},
   "outputs": [
    {
     "name": "stdout",
     "output_type": "stream",
     "text": [
      "{'predictions': [[0.998769224]]}\n"
     ]
    }
   ],
   "source": [
    "def prepare_json(text):\n",
    "    # Create a feature specification with the key \"text\" and the input text as bytes\n",
    "    feature_spec = {\n",
    "        \"text\": tf.train.Feature(bytes_list=tf.train.BytesList(value=[bytes(text, \"utf-8\")]))\n",
    "    }\n",
    "    \n",
    "    # Create an Example protocol buffer\n",
    "    example = tf.train.Example(\n",
    "        features=tf.train.Features(feature=feature_spec)\n",
    "    ).SerializeToString()\n",
    "    \n",
    "    # Encode the Example protocol buffer in base64\n",
    "    result = [{'examples': {'b64': base64.b64encode(example).decode()}}]\n",
    "    \n",
    "    # Return the JSON formatted payload for the model\n",
    "    return json.dumps(\n",
    "        {\n",
    "            \"signature_name\": \"serving_default\",\n",
    "            \"instances\": result\n",
    "        }\n",
    "    )\n",
    "\n",
    "# Prepare the input text for the model prediction\n",
    "input_text = \"I asked my dog what's two minus two. He said nothing.\"\n",
    "\n",
    "# Make a POST request to the model server with the prepared JSON\n",
    "response = requests.post(\n",
    "    \"http://localhost:8080/v1/models/humor-detection-model:predict\", \n",
    "    data=prepare_json(input_text)\n",
    ").json()\n",
    "\n",
    "print(response)"
   ]
  }
 ],
 "metadata": {
  "kernelspec": {
   "display_name": "Python 3 (ipykernel)",
   "language": "python",
   "name": "python3"
  },
  "language_info": {
   "codemirror_mode": {
    "name": "ipython",
    "version": 3
   },
   "file_extension": ".py",
   "mimetype": "text/x-python",
   "name": "python",
   "nbconvert_exporter": "python",
   "pygments_lexer": "ipython3",
   "version": "3.9.15"
  }
 },
 "nbformat": 4,
 "nbformat_minor": 5
}
