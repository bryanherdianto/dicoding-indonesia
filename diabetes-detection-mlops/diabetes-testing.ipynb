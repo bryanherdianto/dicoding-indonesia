{
 "cells": [
  {
   "cell_type": "code",
   "execution_count": 1,
   "id": "dcd1888b-80bf-4cc6-bbe2-4305fb280c98",
   "metadata": {},
   "outputs": [
    {
     "name": "stderr",
     "output_type": "stream",
     "text": [
      "2024-08-01 15:55:34.237461: I tensorflow/core/util/port.cc:113] oneDNN custom operations are on. You may see slightly different numerical results due to floating-point round-off errors from different computation orders. To turn them off, set the environment variable `TF_ENABLE_ONEDNN_OPTS=0`.\n",
      "2024-08-01 15:55:34.330496: I external/local_tsl/tsl/cuda/cudart_stub.cc:31] Could not find cuda drivers on your machine, GPU will not be used.\n",
      "2024-08-01 15:55:34.511049: E external/local_xla/xla/stream_executor/cuda/cuda_dnn.cc:9261] Unable to register cuDNN factory: Attempting to register factory for plugin cuDNN when one has already been registered\n",
      "2024-08-01 15:55:34.511196: E external/local_xla/xla/stream_executor/cuda/cuda_fft.cc:607] Unable to register cuFFT factory: Attempting to register factory for plugin cuFFT when one has already been registered\n",
      "2024-08-01 15:55:34.546766: E external/local_xla/xla/stream_executor/cuda/cuda_blas.cc:1515] Unable to register cuBLAS factory: Attempting to register factory for plugin cuBLAS when one has already been registered\n",
      "2024-08-01 15:55:34.647921: I external/local_tsl/tsl/cuda/cudart_stub.cc:31] Could not find cuda drivers on your machine, GPU will not be used.\n",
      "2024-08-01 15:55:34.650661: I tensorflow/core/platform/cpu_feature_guard.cc:182] This TensorFlow binary is optimized to use available CPU instructions in performance-critical operations.\n",
      "To enable the following instructions: AVX2 AVX512F AVX512_VNNI FMA, in other operations, rebuild TensorFlow with the appropriate compiler flags.\n",
      "2024-08-01 15:55:37.076919: W tensorflow/compiler/tf2tensorrt/utils/py_utils.cc:38] TF-TRT Warning: Could not find TensorRT\n"
     ]
    }
   ],
   "source": [
    "import tensorflow as tf\n",
    "import requests\n",
    "import base64\n",
    "import json"
   ]
  },
  {
   "cell_type": "code",
   "execution_count": 9,
   "id": "3bbe45b7-7a4f-4bf4-b123-a8c665ebbc40",
   "metadata": {},
   "outputs": [
    {
     "name": "stdout",
     "output_type": "stream",
     "text": [
      "{'predictions': [[0.999954641]]}\n"
     ]
    }
   ],
   "source": [
    "def prepare_json(features):\n",
    "    # Extract individual feature values from the input list\n",
    "    pregnancies, glucose, blood_pressure, skin_thickness, insulin, bmi, pedigree, age = features\n",
    "    \n",
    "    # Create a feature specification with individual features\n",
    "    feature_spec = {\n",
    "        \"Pregnancies\": tf.train.Feature(int64_list=tf.train.Int64List(value=[pregnancies])),\n",
    "        \"Glucose\": tf.train.Feature(int64_list=tf.train.Int64List(value=[glucose])),\n",
    "        \"BloodPressure\": tf.train.Feature(int64_list=tf.train.Int64List(value=[blood_pressure])),\n",
    "        \"SkinThickness\": tf.train.Feature(int64_list=tf.train.Int64List(value=[skin_thickness])),\n",
    "        \"Insulin\": tf.train.Feature(int64_list=tf.train.Int64List(value=[insulin])),\n",
    "        \"BMI\": tf.train.Feature(float_list=tf.train.FloatList(value=[bmi])),\n",
    "        \"DiabetesPedigreeFunction\": tf.train.Feature(float_list=tf.train.FloatList(value=[pedigree])),\n",
    "        \"Age\": tf.train.Feature(int64_list=tf.train.Int64List(value=[age]))\n",
    "    }\n",
    "    \n",
    "    # Create an Example protocol buffer\n",
    "    example = tf.train.Example(\n",
    "        features=tf.train.Features(feature=feature_spec)\n",
    "    ).SerializeToString()\n",
    "    \n",
    "    # Encode the Example protocol buffer in base64\n",
    "    result = [{'examples': {'b64': base64.b64encode(example).decode()}}]\n",
    "    \n",
    "    # Return the JSON formatted payload for the model\n",
    "    return json.dumps(\n",
    "        {\n",
    "            \"signature_name\": \"serving_default\",\n",
    "            \"instances\": result\n",
    "        }\n",
    "    )\n",
    "\n",
    "# Prepare the input numerical features for the model prediction\n",
    "input_features = [6, 148, 72, 35, 0, 33.6, 0.527, 50]  # Example input values\n",
    "\n",
    "# Make a POST request to the model server with the prepared JSON\n",
    "response = requests.post(\n",
    "    \"https://diabetes-detection-8a31c5bf0c49.herokuapp.com/v1/models/serving_model:predict\", \n",
    "    data=prepare_json(input_features),\n",
    "    headers={\"Content-Type\": \"application/json\"}\n",
    ").json()\n",
    "\n",
    "print(response)"
   ]
  }
 ],
 "metadata": {
  "kernelspec": {
   "display_name": "Python 3 (ipykernel)",
   "language": "python",
   "name": "python3"
  },
  "language_info": {
   "codemirror_mode": {
    "name": "ipython",
    "version": 3
   },
   "file_extension": ".py",
   "mimetype": "text/x-python",
   "name": "python",
   "nbconvert_exporter": "python",
   "pygments_lexer": "ipython3",
   "version": "3.9.15"
  }
 },
 "nbformat": 4,
 "nbformat_minor": 5
}
